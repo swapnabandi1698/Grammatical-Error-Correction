{
 "cells": [
  {
   "cell_type": "code",
   "execution_count": 1,
   "id": "0c6595e6",
   "metadata": {},
   "outputs": [],
   "source": [
    "# importing all the required modules\n",
    "import pandas as pd\n",
    "import matplotlib.pyplot as plt\n",
    "import tensorflow as tf\n",
    "from tensorflow.keras.preprocessing.text import Tokenizer\n",
    "from tensorflow.keras.preprocessing.sequence import pad_sequences\n",
    "import numpy as np\n",
    "from tensorflow.keras.layers import Input, LSTM, Dense, Embedding, Bidirectional, Dropout"
   ]
  },
  {
   "cell_type": "code",
   "execution_count": 2,
   "id": "8673f3a7",
   "metadata": {},
   "outputs": [],
   "source": [
    "# Loading the Data sets into a Data frame using pandas library\n",
    "df1 = pd.read_csv(\"Downloads/train.csv\")\n",
    "df2 = pd.read_csv(\"Downloads/test.csv\")\n",
    "\n",
    "# Deleting null values in data\n",
    "df1 = df1.dropna()\n",
    "df2 = df2.dropna()"
   ]
  },
  {
   "cell_type": "code",
   "execution_count": 3,
   "id": "0606cff5",
   "metadata": {},
   "outputs": [
    {
     "data": {
      "text/html": [
       "<div>\n",
       "<style scoped>\n",
       "    .dataframe tbody tr th:only-of-type {\n",
       "        vertical-align: middle;\n",
       "    }\n",
       "\n",
       "    .dataframe tbody tr th {\n",
       "        vertical-align: top;\n",
       "    }\n",
       "\n",
       "    .dataframe thead th {\n",
       "        text-align: right;\n",
       "    }\n",
       "</style>\n",
       "<table border=\"1\" class=\"dataframe\">\n",
       "  <thead>\n",
       "    <tr style=\"text-align: right;\">\n",
       "      <th></th>\n",
       "      <th>input</th>\n",
       "      <th>output</th>\n",
       "    </tr>\n",
       "  </thead>\n",
       "  <tbody>\n",
       "    <tr>\n",
       "      <th>0</th>\n",
       "      <td>Bitcoin is for $7,094 this morning, which Coin...</td>\n",
       "      <td>Bitcoin goes for $7,094 this morning, accordin...</td>\n",
       "    </tr>\n",
       "    <tr>\n",
       "      <th>1</th>\n",
       "      <td>The effect of widespread dud targets two face ...</td>\n",
       "      <td>1. The effect of \"widespread dud\" targets two ...</td>\n",
       "    </tr>\n",
       "    <tr>\n",
       "      <th>2</th>\n",
       "      <td>tax on sales of stores for non residents are s...</td>\n",
       "      <td>Capital Gains tax on the sale of properties fo...</td>\n",
       "    </tr>\n",
       "    <tr>\n",
       "      <th>3</th>\n",
       "      <td>Much many brands and sellers still in the market.</td>\n",
       "      <td>Many brands and sellers still in the market.</td>\n",
       "    </tr>\n",
       "    <tr>\n",
       "      <th>4</th>\n",
       "      <td>this is is the latest Maintenance release of S...</td>\n",
       "      <td>This is is the latest maintenance release of S...</td>\n",
       "    </tr>\n",
       "  </tbody>\n",
       "</table>\n",
       "</div>"
      ],
      "text/plain": [
       "                                               input  \\\n",
       "0  Bitcoin is for $7,094 this morning, which Coin...   \n",
       "1  The effect of widespread dud targets two face ...   \n",
       "2  tax on sales of stores for non residents are s...   \n",
       "3  Much many brands and sellers still in the market.   \n",
       "4  this is is the latest Maintenance release of S...   \n",
       "\n",
       "                                              output  \n",
       "0  Bitcoin goes for $7,094 this morning, accordin...  \n",
       "1  1. The effect of \"widespread dud\" targets two ...  \n",
       "2  Capital Gains tax on the sale of properties fo...  \n",
       "3       Many brands and sellers still in the market.  \n",
       "4  This is is the latest maintenance release of S...  "
      ]
     },
     "execution_count": 3,
     "metadata": {},
     "output_type": "execute_result"
    }
   ],
   "source": [
    "df1.head()"
   ]
  },
  {
   "cell_type": "code",
   "execution_count": 4,
   "id": "9c2d3cc6",
   "metadata": {},
   "outputs": [
    {
     "data": {
      "text/html": [
       "<div>\n",
       "<style scoped>\n",
       "    .dataframe tbody tr th:only-of-type {\n",
       "        vertical-align: middle;\n",
       "    }\n",
       "\n",
       "    .dataframe tbody tr th {\n",
       "        vertical-align: top;\n",
       "    }\n",
       "\n",
       "    .dataframe thead th {\n",
       "        text-align: right;\n",
       "    }\n",
       "</style>\n",
       "<table border=\"1\" class=\"dataframe\">\n",
       "  <thead>\n",
       "    <tr style=\"text-align: right;\">\n",
       "      <th></th>\n",
       "      <th>input</th>\n",
       "      <th>output</th>\n",
       "    </tr>\n",
       "  </thead>\n",
       "  <tbody>\n",
       "    <tr>\n",
       "      <th>0</th>\n",
       "      <td>Organizational mission of Kiss The Ground is i...</td>\n",
       "      <td>The organizational mission of Kiss the Ground ...</td>\n",
       "    </tr>\n",
       "    <tr>\n",
       "      <th>1</th>\n",
       "      <td>Tap The Thumbnail Bellow to See Related Galler...</td>\n",
       "      <td>Tap The Thumbnail Bellow to See Related Galler...</td>\n",
       "    </tr>\n",
       "    <tr>\n",
       "      <th>2</th>\n",
       "      <td>when I relax that’s when I shake or jolt to me...</td>\n",
       "      <td>if I relax that’s when I shake or jolt, like t...</td>\n",
       "    </tr>\n",
       "    <tr>\n",
       "      <th>3</th>\n",
       "      <td>Our neighbor Jay-dub (nickname courtesy of me ...</td>\n",
       "      <td>Our neighbor Jay-dub (nickname courtesy me sin...</td>\n",
       "    </tr>\n",
       "    <tr>\n",
       "      <th>4</th>\n",
       "      <td>Kummrow Automotive is now a Official Distribut...</td>\n",
       "      <td>Kummrow Automotive is now an official Dinan Di...</td>\n",
       "    </tr>\n",
       "  </tbody>\n",
       "</table>\n",
       "</div>"
      ],
      "text/plain": [
       "                                               input  \\\n",
       "0  Organizational mission of Kiss The Ground is i...   \n",
       "1  Tap The Thumbnail Bellow to See Related Galler...   \n",
       "2  when I relax that’s when I shake or jolt to me...   \n",
       "3  Our neighbor Jay-dub (nickname courtesy of me ...   \n",
       "4  Kummrow Automotive is now a Official Distribut...   \n",
       "\n",
       "                                              output  \n",
       "0  The organizational mission of Kiss the Ground ...  \n",
       "1  Tap The Thumbnail Bellow to See Related Galler...  \n",
       "2  if I relax that’s when I shake or jolt, like t...  \n",
       "3  Our neighbor Jay-dub (nickname courtesy me sin...  \n",
       "4  Kummrow Automotive is now an official Dinan Di...  "
      ]
     },
     "execution_count": 4,
     "metadata": {},
     "output_type": "execute_result"
    }
   ],
   "source": [
    "df2.head()"
   ]
  },
  {
   "cell_type": "code",
   "execution_count": 5,
   "id": "91595269",
   "metadata": {},
   "outputs": [
    {
     "name": "stdout",
     "output_type": "stream",
     "text": [
      "<class 'pandas.core.frame.DataFrame'>\n",
      "RangeIndex: 25000 entries, 0 to 24999\n",
      "Data columns (total 2 columns):\n",
      " #   Column  Non-Null Count  Dtype \n",
      "---  ------  --------------  ----- \n",
      " 0   input   25000 non-null  object\n",
      " 1   output  25000 non-null  object\n",
      "dtypes: object(2)\n",
      "memory usage: 390.8+ KB\n"
     ]
    }
   ],
   "source": [
    "df2.info()"
   ]
  },
  {
   "cell_type": "code",
   "execution_count": 6,
   "id": "2932c845",
   "metadata": {},
   "outputs": [
    {
     "data": {
      "text/plain": [
       "((71616, 2), (25000, 2))"
      ]
     },
     "execution_count": 6,
     "metadata": {},
     "output_type": "execute_result"
    }
   ],
   "source": [
    "df1.shape, df2.shape"
   ]
  },
  {
   "cell_type": "code",
   "execution_count": 7,
   "id": "0b853879",
   "metadata": {},
   "outputs": [],
   "source": [
    "# Assuming train_data and test_data are your datasets with input sentences and corrected sentences\n",
    "# Taking subset of training data and test data for avoiding memory issues\n",
    "train_data = df1[:10000]\n",
    "test_data = df2[:2000]"
   ]
  },
  {
   "cell_type": "code",
   "execution_count": 8,
   "id": "6af82d90",
   "metadata": {},
   "outputs": [],
   "source": [
    "# Create Tokenizer() object \n",
    "tokenizer = Tokenizer()\n",
    "\n",
    "# assign an unique index for each word\n",
    "# map of word with unique index i.., {word: unique_index}\n",
    "tokenizer.fit_on_texts(train_data['input'])\n",
    "\n",
    "# adding prefered words for decoding logic  \n",
    "tokenizer.word_index['<start>'] = len(tokenizer.word_index) + 1\n",
    "tokenizer.word_index['<end>'] = len(tokenizer.word_index) + 2\n",
    "\n",
    "# convert sentences to numbered sequences\n",
    "# After tokeniztion list of words --> words to list of word indexes\n",
    "train_input_sequences = tokenizer.texts_to_sequences(train_data['input'])\n",
    "test_input_sequences = tokenizer.texts_to_sequences(test_data['input'])"
   ]
  },
  {
   "cell_type": "code",
   "execution_count": 9,
   "id": "038c5255",
   "metadata": {},
   "outputs": [
    {
     "name": "stdout",
     "output_type": "stream",
     "text": [
      "[2253, 8, 7, 78, 2254, 17, 2255, 37, 2256, 426]\n",
      "[1990, 3, 1, 6496, 8, 2739, 375, 2321, 5, 1, 3, 39, 1403, 1882]\n"
     ]
    }
   ],
   "source": [
    "print(train_input_sequences[0])\n",
    "print(test_input_sequences[0])"
   ]
  },
  {
   "cell_type": "code",
   "execution_count": 10,
   "id": "c3d2c4cf",
   "metadata": {},
   "outputs": [],
   "source": [
    "# output sentences -> tokenization -> list of words -> list of word indexes/numbers\n",
    "tokenizer.fit_on_texts(train_data['output'])\n",
    "train_target_sequences = tokenizer.texts_to_sequences(train_data['output'])\n",
    "test_target_sequences = tokenizer.texts_to_sequences(test_data['output'])"
   ]
  },
  {
   "cell_type": "code",
   "execution_count": 11,
   "id": "e7aa8cf0",
   "metadata": {},
   "outputs": [
    {
     "name": "stdout",
     "output_type": "stream",
     "text": [
      "[2464, 2356, 7, 82, 2465, 17, 2088, 633, 3, 2466]\n",
      "[1, 1894, 4, 1, 2446, 8, 3, 2806, 459, 2510, 6, 1, 4, 35]\n"
     ]
    }
   ],
   "source": [
    "print(train_target_sequences[0])\n",
    "print(test_target_sequences[0])"
   ]
  },
  {
   "cell_type": "code",
   "execution_count": 12,
   "id": "cc91adf1",
   "metadata": {},
   "outputs": [],
   "source": [
    "# Load pre-trained word embeddings\n",
    "#The file glove.6B.50d.txt contains pre-trained word embeddings generated using the GloVe \n",
    "# (Global Vectors for Word Representation) algorithm. Here's what each part of the filename means:\n",
    "#glove: This indicates that the embeddings were generated using the GloVe algorithm.\n",
    "#6B: The GloVe algorithm was trained on a corpus of 6 billion tokens.\n",
    "#50d: The embeddings are 50-dimensional vectors.\n",
    "embeddings_index = {}\n",
    "with open('Downloads/glove.6B.50d.txt', encoding='utf-8') as f:\n",
    "    \n",
    "#     logic for loading pre-trained word embeddings(Glove) from file to a dictionary\n",
    "    for line in f:\n",
    "        values = line.split()\n",
    "        word = values[0]\n",
    "        coefs = np.asarray(values[1:], dtype='float32')\n",
    "        embeddings_index[word] = coefs\n",
    "\n",
    "# specify  the dimentionality of the word embeddings\n",
    "embedding_dim = 50"
   ]
  },
  {
   "cell_type": "code",
   "execution_count": 13,
   "id": "bf29c825",
   "metadata": {},
   "outputs": [],
   "source": [
    "# retrieve word_index from tokenizer object and assign to some variable\n",
    "# it is a dictionary looks like {word: unique_number, ......}\n",
    "word_index = tokenizer.word_index\n",
    "num_words = len(word_index) + 1\n",
    "\n",
    "# logic for creating embedding matrix --> {word_index: corresponding_embeddingVector, ....}\n",
    "embedding_matrix = np.zeros((num_words, embedding_dim))\n",
    "for word, i in word_index.items():\n",
    "    embedding_vector = embeddings_index.get(word)\n",
    "    if embedding_vector is not None:\n",
    "        embedding_matrix[i] = embedding_vector"
   ]
  },
  {
   "cell_type": "code",
   "execution_count": 14,
   "id": "7337a1da",
   "metadata": {},
   "outputs": [
    {
     "name": "stdout",
     "output_type": "stream",
     "text": [
      "50\n"
     ]
    }
   ],
   "source": [
    "# Pad sequences dynamically - to ensure all are having equal length\n",
    "max_len = 50\n",
    "print(max_len)\n",
    "train_input_sequences = pad_sequences(train_input_sequences, maxlen=max_len, padding='post')\n",
    "test_input_sequences = pad_sequences(test_input_sequences, maxlen=max_len, padding='post')\n",
    "train_target_sequences = pad_sequences(train_target_sequences, maxlen=max_len, padding='post')\n",
    "test_target_sequences = pad_sequences(test_target_sequences, maxlen=max_len, padding='post')"
   ]
  },
  {
   "cell_type": "code",
   "execution_count": 15,
   "id": "acf8c408",
   "metadata": {},
   "outputs": [
    {
     "name": "stdout",
     "output_type": "stream",
     "text": [
      "[2253    8    7   78 2254   17 2255   37 2256  426    0    0    0    0\n",
      "    0    0    0    0    0    0    0    0    0    0    0    0    0    0\n",
      "    0    0    0    0    0    0    0    0    0    0    0    0    0    0\n",
      "    0    0    0    0    0    0    0    0]\n"
     ]
    }
   ],
   "source": [
    "print(train_input_sequences[0])"
   ]
  },
  {
   "cell_type": "code",
   "execution_count": 16,
   "id": "ac096845",
   "metadata": {},
   "outputs": [],
   "source": [
    "# Define a Sequential model \n",
    "model =  tf.keras.Sequential()\n",
    "model.add(Embedding(input_dim=num_words, output_dim=embedding_dim))\n",
    "model.add(Bidirectional(LSTM(units=128, return_sequences=True)))\n",
    "model.add(Dropout(0.2))\n",
    "model.add(Dense(units=num_words, activation='softmax'))\n",
    "\n",
    "# Compile the model\n",
    "optimizer = tf.keras.optimizers.Adam(learning_rate=0.01)\n",
    "model.compile(loss='sparse_categorical_crossentropy', optimizer=optimizer, metrics=['accuracy'])"
   ]
  },
  {
   "cell_type": "code",
   "execution_count": 17,
   "id": "6ad94d59",
   "metadata": {},
   "outputs": [
    {
     "name": "stdout",
     "output_type": "stream",
     "text": [
      "Epoch 1/15\n",
      "\u001b[1m32/32\u001b[0m \u001b[32m━━━━━━━━━━━━━━━━━━━━\u001b[0m\u001b[37m\u001b[0m \u001b[1m30s\u001b[0m 632ms/step - accuracy: 0.4628 - loss: 5.5593 - val_accuracy: 0.6699 - val_loss: 2.4679\n",
      "Epoch 2/15\n",
      "\u001b[1m32/32\u001b[0m \u001b[32m━━━━━━━━━━━━━━━━━━━━\u001b[0m\u001b[37m\u001b[0m \u001b[1m19s\u001b[0m 590ms/step - accuracy: 0.5956 - loss: 3.1335 - val_accuracy: 0.6840 - val_loss: 2.3325\n",
      "Epoch 3/15\n",
      "\u001b[1m32/32\u001b[0m \u001b[32m━━━━━━━━━━━━━━━━━━━━\u001b[0m\u001b[37m\u001b[0m \u001b[1m19s\u001b[0m 592ms/step - accuracy: 0.6176 - loss: 2.8795 - val_accuracy: 0.6902 - val_loss: 2.3047\n",
      "Epoch 4/15\n",
      "\u001b[1m32/32\u001b[0m \u001b[32m━━━━━━━━━━━━━━━━━━━━\u001b[0m\u001b[37m\u001b[0m \u001b[1m18s\u001b[0m 572ms/step - accuracy: 0.6106 - loss: 2.8084 - val_accuracy: 0.7004 - val_loss: 2.2941\n",
      "Epoch 5/15\n",
      "\u001b[1m32/32\u001b[0m \u001b[32m━━━━━━━━━━━━━━━━━━━━\u001b[0m\u001b[37m\u001b[0m \u001b[1m17s\u001b[0m 545ms/step - accuracy: 0.6372 - loss: 2.4721 - val_accuracy: 0.7106 - val_loss: 2.3043\n",
      "Epoch 6/15\n",
      "\u001b[1m32/32\u001b[0m \u001b[32m━━━━━━━━━━━━━━━━━━━━\u001b[0m\u001b[37m\u001b[0m \u001b[1m19s\u001b[0m 598ms/step - accuracy: 0.6530 - loss: 2.1806 - val_accuracy: 0.7165 - val_loss: 2.3237\n",
      "Epoch 7/15\n",
      "\u001b[1m32/32\u001b[0m \u001b[32m━━━━━━━━━━━━━━━━━━━━\u001b[0m\u001b[37m\u001b[0m \u001b[1m21s\u001b[0m 670ms/step - accuracy: 0.6992 - loss: 1.7524 - val_accuracy: 0.7220 - val_loss: 2.3707\n",
      "Epoch 8/15\n",
      "\u001b[1m32/32\u001b[0m \u001b[32m━━━━━━━━━━━━━━━━━━━━\u001b[0m\u001b[37m\u001b[0m \u001b[1m26s\u001b[0m 817ms/step - accuracy: 0.7388 - loss: 1.4603 - val_accuracy: 0.7252 - val_loss: 2.4248\n",
      "Epoch 9/15\n",
      "\u001b[1m32/32\u001b[0m \u001b[32m━━━━━━━━━━━━━━━━━━━━\u001b[0m\u001b[37m\u001b[0m \u001b[1m22s\u001b[0m 704ms/step - accuracy: 0.8012 - loss: 1.0873 - val_accuracy: 0.7244 - val_loss: 2.5058\n",
      "Epoch 10/15\n",
      "\u001b[1m32/32\u001b[0m \u001b[32m━━━━━━━━━━━━━━━━━━━━\u001b[0m\u001b[37m\u001b[0m \u001b[1m23s\u001b[0m 734ms/step - accuracy: 0.8411 - loss: 0.8322 - val_accuracy: 0.7269 - val_loss: 2.5700\n",
      "Epoch 11/15\n",
      "\u001b[1m32/32\u001b[0m \u001b[32m━━━━━━━━━━━━━━━━━━━━\u001b[0m\u001b[37m\u001b[0m \u001b[1m28s\u001b[0m 896ms/step - accuracy: 0.8715 - loss: 0.6432 - val_accuracy: 0.7273 - val_loss: 2.6198\n",
      "Epoch 12/15\n",
      "\u001b[1m32/32\u001b[0m \u001b[32m━━━━━━━━━━━━━━━━━━━━\u001b[0m\u001b[37m\u001b[0m \u001b[1m27s\u001b[0m 855ms/step - accuracy: 0.8993 - loss: 0.4992 - val_accuracy: 0.7266 - val_loss: 2.6733\n",
      "Epoch 13/15\n",
      "\u001b[1m32/32\u001b[0m \u001b[32m━━━━━━━━━━━━━━━━━━━━\u001b[0m\u001b[37m\u001b[0m \u001b[1m29s\u001b[0m 901ms/step - accuracy: 0.9132 - loss: 0.4114 - val_accuracy: 0.7283 - val_loss: 2.7209\n",
      "Epoch 14/15\n",
      "\u001b[1m32/32\u001b[0m \u001b[32m━━━━━━━━━━━━━━━━━━━━\u001b[0m\u001b[37m\u001b[0m \u001b[1m31s\u001b[0m 576ms/step - accuracy: 0.9298 - loss: 0.3267 - val_accuracy: 0.7265 - val_loss: 2.7730\n",
      "Epoch 15/15\n",
      "\u001b[1m32/32\u001b[0m \u001b[32m━━━━━━━━━━━━━━━━━━━━\u001b[0m\u001b[37m\u001b[0m \u001b[1m22s\u001b[0m 689ms/step - accuracy: 0.9397 - loss: 0.2791 - val_accuracy: 0.7238 - val_loss: 2.8317\n"
     ]
    },
    {
     "data": {
      "text/plain": [
       "<keras.src.callbacks.history.History at 0x24b2c7d5710>"
      ]
     },
     "execution_count": 17,
     "metadata": {},
     "output_type": "execute_result"
    }
   ],
   "source": [
    "# Train the model with reduced batch size\n",
    "model.fit(train_input_sequences, train_target_sequences,\n",
    "          epochs=15, batch_size=32,\n",
    "          validation_data=(test_input_sequences, test_target_sequences))"
   ]
  },
  {
   "cell_type": "code",
   "execution_count": 21,
   "id": "d5e5e0dc",
   "metadata": {},
   "outputs": [
    {
     "name": "stdout",
     "output_type": "stream",
     "text": [
      "\u001b[1m7/7\u001b[0m \u001b[32m━━━━━━━━━━━━━━━━━━━━\u001b[0m\u001b[37m\u001b[0m \u001b[1m2s\u001b[0m 243ms/step - accuracy: 0.7205 - loss: 2.8361\n",
      "Test Loss: 2.8317182064056396\n",
      "Test Accuracy: 0.7238000631332397\n"
     ]
    }
   ],
   "source": [
    "# Evaluate the model\n",
    "loss, accuracy = model.evaluate(test_input_sequences, test_target_sequences)\n",
    "print(\"Test Loss:\", loss)\n",
    "print(\"Test Accuracy:\", accuracy)"
   ]
  },
  {
   "cell_type": "code",
   "execution_count": 22,
   "id": "6904f78c",
   "metadata": {},
   "outputs": [
    {
     "data": {
      "image/png": "[encoded data removed]",
      "text/plain": [
       "<Figure size 1000x600 with 2 Axes>"
      ]
     },
     "metadata": {},
     "output_type": "display_data"
    }
   ],
   "source": [
    "# Accessing the embedding weights\n",
    "#This code snippet retrieves the embedding weights from the first layer of the model\n",
    "#(which is the embedding layer) and visualizes them using matplotlib. Each row in the \n",
    "#visualization represents the embedding vector for a specific word in the vocabulary.\n",
    "embedding_weights = model.layers[0].get_weights()[0]\n",
    "\n",
    "# Visualizing the embedding weights\n",
    "plt.figure(figsize=(10, 6))\n",
    "plt.imshow(embedding_weights, cmap='viridis')\n",
    "plt.colorbar()\n",
    "plt.title('Embedding Weights')\n",
    "plt.xlabel('Embedding Dimension')\n",
    "plt.ylabel('Vocabulary Size')\n",
    "plt.show()"
   ]
  },
  {
   "cell_type": "code",
   "execution_count": 20,
   "id": "539c3009",
   "metadata": {},
   "outputs": [
    {
     "name": "stdout",
     "output_type": "stream",
     "text": [
      "\u001b[1m1/1\u001b[0m \u001b[32m━━━━━━━━━━━━━━━━━━━━\u001b[0m\u001b[37m\u001b[0m \u001b[1m1s\u001b[0m 771ms/step\n",
      "\u001b[1m1/1\u001b[0m \u001b[32m━━━━━━━━━━━━━━━━━━━━\u001b[0m\u001b[37m\u001b[0m \u001b[1m0s\u001b[0m 41ms/step\n",
      "\u001b[1m1/1\u001b[0m \u001b[32m━━━━━━━━━━━━━━━━━━━━\u001b[0m\u001b[37m\u001b[0m \u001b[1m0s\u001b[0m 40ms/step\n",
      "\u001b[1m1/1\u001b[0m \u001b[32m━━━━━━━━━━━━━━━━━━━━\u001b[0m\u001b[37m\u001b[0m \u001b[1m0s\u001b[0m 40ms/step\n",
      "Input: this is is the latest Maintenance release of Samba 3.6\n",
      "Target: This is is the latest maintenance release of Samba 3.6.\n",
      "Predicted: this is is the latest maintenance release of samba 3 6\n",
      "\n",
      "Input: Fairy Or Not, I'm the Godmother: no just look, but my outfit for taking the part as godmother.\n",
      "Target: Fairy Or Not, I'm the Godmother: Not just a look, but my outfit for taking on the role as godmother.\n",
      "Predicted: fairy or not i'm the godmother no just a look my my outfit for taking availability the role as\n",
      "\n",
      "Input: Watcch as this Dodge Challenger Hellcat gets smoked by a Tesla Model S - with the drag strip.\n",
      "Target: Watch as this Dodge Challenger Hellcat gets smoked by a Tesla Model S at the drag strip.\n",
      "Predicted: watch as this dodge challenger hellcat gets smoked by a tesla model s with the drag strip\n",
      "\n",
      "Input: Momover, these devices have been proven to help consumers during another company his information.\n",
      "Target: Moreover, these devices are proven to help consumers while another company that information.\n",
      "Predicted: moreover these devices are proven to help consumers while another company information\n",
      "\n"
     ]
    }
   ],
   "source": [
    "# For new sentences pr\n",
    "# Decode the Predicted sequences to Sentences\n",
    "# Function to decode sequences into sentences\n",
    "tokenizer.word_index['<end>'] = len(tokenizer.word_index) + 1\n",
    "def decode_sequence(input_sequence):\n",
    "    decoded_sentence = ''\n",
    "    for token in input_sequence:\n",
    "        sampled_token_index = np.argmax(token)\n",
    "        if sampled_token_index == 0:  # <pad> token\n",
    "            continue\n",
    "        if sampled_token_index == tokenizer.word_index['<end>']:  # <end> token\n",
    "            break\n",
    "        decoded_sentence += tokenizer.index_word[sampled_token_index] + ' '\n",
    "    return decoded_sentence.strip()\n",
    " \n",
    "# Decode test sequences\n",
    "decoded_predictions = []\n",
    "for input_seq in train_input_sequences[4:8]:\n",
    "    input_seq = np.expand_dims(input_seq, axis=0)\n",
    "    decoded_seq = decode_sequence(model.predict(input_seq)[0])\n",
    "    decoded_predictions.append(decoded_seq)\n",
    "    \n",
    " # Print decoded sentences\n",
    "for i in range(len(train_data[4:8])):\n",
    "    print(\"Input:\", train_data['input'].iloc[4+i])\n",
    "    print(\"Target:\", train_data['output'].iloc[4+i])\n",
    "    print(\"Predicted:\", decoded_predictions[i])\n",
    "    print()"
   ]
  },
  {
   "cell_type": "code",
   "execution_count": null,
   "id": "40731fdb",
   "metadata": {},
   "outputs": [],
   "source": []
  }
 ],
 "metadata": {
  "kernelspec": {
   "display_name": "Python 3 (ipykernel)",
   "language": "python",
   "name": "python3"
  },
  "language_info": {
   "codemirror_mode": {
    "name": "ipython",
    "version": 3
   },
   "file_extension": ".py",
   "mimetype": "text/x-python",
   "name": "python",
   "nbconvert_exporter": "python",
   "pygments_lexer": "ipython3",
   "version": "3.11.5"
  }
 },
 "nbformat": 4,
 "nbformat_minor": 5
}
